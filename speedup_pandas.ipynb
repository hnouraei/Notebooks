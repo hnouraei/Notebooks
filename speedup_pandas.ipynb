{
 "cells": [
  {
   "cell_type": "code",
   "execution_count": 3,
   "id": "unexpected-lightning",
   "metadata": {
    "ExecuteTime": {
     "end_time": "2021-03-14T21:11:56.213183Z",
     "start_time": "2021-03-14T21:11:56.194188Z"
    }
   },
   "outputs": [
    {
     "data": {
      "text/plain": [
       "'d:\\\\Notebooks'"
      ]
     },
     "execution_count": 3,
     "metadata": {},
     "output_type": "execute_result"
    }
   ],
   "source": [
    "pwd"
   ]
  },
  {
   "cell_type": "code",
   "execution_count": 4,
   "id": "guilty-withdrawal",
   "metadata": {
    "ExecuteTime": {
     "end_time": "2021-03-14T21:16:24.254532Z",
     "start_time": "2021-03-14T21:16:23.941784Z"
    }
   },
   "outputs": [],
   "source": [
    "import pandas as pd "
   ]
  },
  {
   "cell_type": "code",
   "execution_count": 17,
   "id": "competent-commercial",
   "metadata": {
    "ExecuteTime": {
     "end_time": "2021-03-14T21:31:21.070026Z",
     "start_time": "2021-03-14T21:31:21.056457Z"
    }
   },
   "outputs": [],
   "source": [
    "import os, glob "
   ]
  },
  {
   "cell_type": "markdown",
   "id": "secret-russia",
   "metadata": {},
   "source": [
    "glob.glob(pathname, *, recursive=False)\n",
    "Return a possibly-empty list of path names that match pathname, which must be a string containing a path specification. pathname can be either absolute (like /usr/src/Python-1.5/Makefile) or relative (like ../../Tools/*/*.gif), and can contain shell-style wildcards. Broken symlinks are included in the results (as in the shell). Whether or not the results are sorted depends on the file system. If a file that satisfies conditions is removed or added during the call of this function, whether a path name for that file be included is unspecified.\n",
    "\n",
    "If recursive is true, the pattern “**” will match any files and zero or more directories, subdirectories and symbolic links to directories. If the pattern is followed by an os.sep or os.altsep then files will not match.\n",
    "\n",
    "Raises an auditing event glob.glob with arguments pathname, recursive.\n",
    "\n",
    "\n",
    "\n",
    "https://docs.python.org/3/library/glob.html"
   ]
  },
  {
   "cell_type": "code",
   "execution_count": 20,
   "id": "simplified-bicycle",
   "metadata": {
    "ExecuteTime": {
     "end_time": "2021-03-14T21:33:47.245261Z",
     "start_time": "2021-03-14T21:33:47.231738Z"
    }
   },
   "outputs": [
    {
     "name": "stdout",
     "output_type": "stream",
     "text": [
      "['capital-onebike.csv', 'homelessness.csv', 'new.csv', 'PUBG.csv', 'sales_subset.csv', 'stock_data.csv', 'temperatures.csv', 'Time_Series_Tesla_Stock_Price.csv', 'weather_data.csv']\n"
     ]
    }
   ],
   "source": [
    "path_csv=glob.glob(\"*.csv\")\n",
    "print(path_csv)"
   ]
  },
  {
   "cell_type": "code",
   "execution_count": 9,
   "id": "environmental-invalid",
   "metadata": {
    "ExecuteTime": {
     "end_time": "2021-03-14T21:21:31.431279Z",
     "start_time": "2021-03-14T21:21:31.415279Z"
    }
   },
   "outputs": [],
   "source": [
    "import pprint"
   ]
  },
  {
   "cell_type": "code",
   "execution_count": 12,
   "id": "native-notion",
   "metadata": {
    "ExecuteTime": {
     "end_time": "2021-03-14T21:22:23.947454Z",
     "start_time": "2021-03-14T21:22:23.931331Z"
    }
   },
   "outputs": [],
   "source": [
    "list_file = os.listdir()"
   ]
  },
  {
   "cell_type": "code",
   "execution_count": 16,
   "id": "guided-companion",
   "metadata": {
    "ExecuteTime": {
     "end_time": "2021-03-14T21:24:27.282927Z",
     "start_time": "2021-03-14T21:24:27.269858Z"
    },
    "collapsed": true
   },
   "outputs": [
    {
     "name": "stdout",
     "output_type": "stream",
     "text": [
      "['.bash_history',\n",
      " '.condarc',\n",
      " '.gitconfig',\n",
      " '.ipynb_checkpoints',\n",
      " '.python_history',\n",
      " '.viminfo',\n",
      " '.virtual_documents',\n",
      " 'avoplotto.pkl',\n",
      " 'bokehtest.ipynb',\n",
      " 'bokeh_example.py',\n",
      " 'bokeh_example_1.ipynb',\n",
      " 'capital-onebike.csv',\n",
      " 'Data_Analysis_1.ipynb',\n",
      " 'data_types_python.ipynb',\n",
      " 'Data_Visualization_plotly.ipynb',\n",
      " 'debug.log',\n",
      " 'efficient_code_python.ipynb',\n",
      " 'florida_hurricane_dates.pkl',\n",
      " 'Git.ipynb',\n",
      " 'grouped-bar.html',\n",
      " 'Hello_world.py',\n",
      " 'homelessness.csv',\n",
      " 'hoomannouraei.html',\n",
      " 'Kaggle API.ipynb',\n",
      " 'Library_Pandas_1 (Data Manipulation).ipynb',\n",
      " 'Library_Pandas_10 (Analyzing Police Activity with Pandas).ipynb',\n",
      " 'Library_Pandas_2 (working with categorical data) .ipynb',\n",
      " 'Library_Pandas_3 (Dealing with Missing Data in Python) .ipynb',\n",
      " 'Library_Pandas_4 (Cleaning Data in Python) .ipynb',\n",
      " 'Library_Pandas_5 (Joining Data with Pandas).ipynb',\n",
      " 'Library_Pandas_6 (Manipulating DataFrame with Pandas).ipynb',\n",
      " 'Library_Pandas_7 (Merging DataFrames with Pandas).ipynb',\n",
      " 'Library_Pandas_8 (Reshaping Data with Pandas).ipynb',\n",
      " 'Library_Pandas_9 (Streamlined Data Ingestion with Pandas).ipynb',\n",
      " 'new.csv',\n",
      " 'new.xlsx',\n",
      " 'PUBG.csv',\n",
      " 'Python.ipynb',\n",
      " 'Python_fun_coding .ipynb',\n",
      " 'Python_WebScraping_Tutorial.ipynb',\n",
      " 'Regular Expressions.ipynb',\n",
      " 'sales_subset.csv',\n",
      " 'scratch_1.py',\n",
      " 'speedup_pandas.ipynb',\n",
      " 'stock_data.csv',\n",
      " 'temperatures.csv',\n",
      " 'test.html',\n",
      " 'Time_Series_Tesla_Stock_Price.csv',\n",
      " 'Unit_Testing_Example.ipynb',\n",
      " 'Unit_Testing_Example.py',\n",
      " 'Untitled.ipynb',\n",
      " 'weather_data.csv',\n",
      " 'Working_with_Dates_and_Times.ipynb']\n"
     ]
    }
   ],
   "source": [
    "pprint.pprint(list_file)"
   ]
  },
  {
   "cell_type": "code",
   "execution_count": 22,
   "id": "enormous-vertical",
   "metadata": {
    "ExecuteTime": {
     "end_time": "2021-03-14T21:46:37.809963Z",
     "start_time": "2021-03-14T21:46:37.782967Z"
    },
    "collapsed": true
   },
   "outputs": [
    {
     "name": "stdout",
     "output_type": "stream",
     "text": [
      "Wall time: 3 ms\n"
     ]
    },
    {
     "data": {
      "text/html": [
       "<div>\n",
       "<style scoped>\n",
       "    .dataframe tbody tr th:only-of-type {\n",
       "        vertical-align: middle;\n",
       "    }\n",
       "\n",
       "    .dataframe tbody tr th {\n",
       "        vertical-align: top;\n",
       "    }\n",
       "\n",
       "    .dataframe thead th {\n",
       "        text-align: right;\n",
       "    }\n",
       "</style>\n",
       "<table border=\"1\" class=\"dataframe\">\n",
       "  <thead>\n",
       "    <tr style=\"text-align: right;\">\n",
       "      <th></th>\n",
       "      <th>tickers</th>\n",
       "      <th>eps</th>\n",
       "      <th>revenue</th>\n",
       "      <th>price</th>\n",
       "      <th>people</th>\n",
       "    </tr>\n",
       "  </thead>\n",
       "  <tbody>\n",
       "    <tr>\n",
       "      <th>0</th>\n",
       "      <td>GOOGL</td>\n",
       "      <td>27.82</td>\n",
       "      <td>87</td>\n",
       "      <td>845</td>\n",
       "      <td>larry page</td>\n",
       "    </tr>\n",
       "    <tr>\n",
       "      <th>1</th>\n",
       "      <td>WMT</td>\n",
       "      <td>4.61</td>\n",
       "      <td>484</td>\n",
       "      <td>65</td>\n",
       "      <td>n.a.</td>\n",
       "    </tr>\n",
       "    <tr>\n",
       "      <th>2</th>\n",
       "      <td>MSFT</td>\n",
       "      <td>-1</td>\n",
       "      <td>85</td>\n",
       "      <td>64</td>\n",
       "      <td>bill gates</td>\n",
       "    </tr>\n",
       "    <tr>\n",
       "      <th>3</th>\n",
       "      <td>RIL</td>\n",
       "      <td>not available</td>\n",
       "      <td>50</td>\n",
       "      <td>1023</td>\n",
       "      <td>mukesh ambani</td>\n",
       "    </tr>\n",
       "    <tr>\n",
       "      <th>4</th>\n",
       "      <td>TATA</td>\n",
       "      <td>5.6</td>\n",
       "      <td>-1</td>\n",
       "      <td>n.a.</td>\n",
       "      <td>ratan tata</td>\n",
       "    </tr>\n",
       "  </tbody>\n",
       "</table>\n",
       "</div>"
      ],
      "text/plain": [
       "  tickers            eps  revenue price         people\n",
       "0   GOOGL          27.82       87   845     larry page\n",
       "1     WMT           4.61      484    65           n.a.\n",
       "2    MSFT             -1       85    64     bill gates\n",
       "3    RIL   not available       50  1023  mukesh ambani\n",
       "4    TATA            5.6       -1  n.a.     ratan tata"
      ]
     },
     "execution_count": 22,
     "metadata": {},
     "output_type": "execute_result"
    }
   ],
   "source": [
    "%%time \n",
    "df = pd.read_csv('stock_data.csv')\n",
    "df"
   ]
  },
  {
   "cell_type": "code",
   "execution_count": 23,
   "id": "apart-boundary",
   "metadata": {
    "ExecuteTime": {
     "end_time": "2021-03-14T21:47:12.926715Z",
     "start_time": "2021-03-14T21:47:12.911688Z"
    }
   },
   "outputs": [
    {
     "data": {
      "text/plain": [
       "Index(['tickers', 'eps', 'revenue', 'price', 'people'], dtype='object')"
      ]
     },
     "execution_count": 23,
     "metadata": {},
     "output_type": "execute_result"
    }
   ],
   "source": [
    "df.columns"
   ]
  },
  {
   "cell_type": "code",
   "execution_count": 25,
   "id": "collected-silly",
   "metadata": {
    "ExecuteTime": {
     "end_time": "2021-03-15T13:04:22.249513Z",
     "start_time": "2021-03-15T13:04:18.670037Z"
    }
   },
   "outputs": [
    {
     "name": "stdout",
     "output_type": "stream",
     "text": [
      "44.6 µs ± 9.6 µs per loop (mean ± std. dev. of 7 runs, 10000 loops each)\n"
     ]
    }
   ],
   "source": [
    "%%timeit\n",
    "df.groupby('price').count "
   ]
  },
  {
   "cell_type": "code",
   "execution_count": 26,
   "id": "hired-forestry",
   "metadata": {
    "ExecuteTime": {
     "end_time": "2021-03-15T13:04:37.541196Z",
     "start_time": "2021-03-15T13:04:37.351446Z"
    }
   },
   "outputs": [
    {
     "name": "stderr",
     "output_type": "stream",
     "text": [
      "FutureWarning: The pandas.datetime class is deprecated and will be removed from pandas in a future version. Import from datetime module instead.\n"
     ]
    }
   ],
   "source": [
    "import modin.pandas as pd "
   ]
  },
  {
   "cell_type": "code",
   "execution_count": 27,
   "id": "prospective-motel",
   "metadata": {
    "ExecuteTime": {
     "end_time": "2021-03-15T13:06:26.485331Z",
     "start_time": "2021-03-15T13:06:15.954919Z"
    }
   },
   "outputs": [
    {
     "name": "stderr",
     "output_type": "stream",
     "text": [
      "UserWarning: Dask execution environment not yet initialized. Initializing...\n",
      "To remove this warning, run the following python code before doing dataframe operations:\n",
      "\n",
      "    from distributed import Client\n",
      "\n",
      "    client = Client()\n",
      "\n"
     ]
    },
    {
     "name": "stdout",
     "output_type": "stream",
     "text": [
      "The slowest run took 5.71 times longer than the fastest. This could mean that an intermediate result is being cached.\n",
      "330 ms ± 169 ms per loop (mean ± std. dev. of 7 runs, 1 loop each)\n"
     ]
    }
   ],
   "source": [
    "%%timeit\n",
    "df = pd.read_csv('stock_data.csv')"
   ]
  },
  {
   "cell_type": "code",
   "execution_count": 29,
   "id": "bizarre-botswana",
   "metadata": {
    "ExecuteTime": {
     "end_time": "2021-03-15T13:09:01.746066Z",
     "start_time": "2021-03-15T13:08:59.334408Z"
    }
   },
   "outputs": [
    {
     "name": "stderr",
     "output_type": "stream",
     "text": [
      "UserWarning: Port 8787 is already in use.\n",
      "Perhaps you already have a cluster running?\n",
      "Hosting the HTTP server on port 52299 instead\n"
     ]
    }
   ],
   "source": [
    "from distributed import Client\n",
    "client = Client()"
   ]
  },
  {
   "cell_type": "code",
   "execution_count": 31,
   "id": "developed-signature",
   "metadata": {
    "ExecuteTime": {
     "end_time": "2021-03-15T13:10:12.719633Z",
     "start_time": "2021-03-15T13:10:12.534887Z"
    }
   },
   "outputs": [
    {
     "name": "stdout",
     "output_type": "stream",
     "text": [
      "Wall time: 166 ms\n"
     ]
    }
   ],
   "source": [
    "%%time\n",
    "df = pd.read_csv('stock_data.csv')"
   ]
  },
  {
   "cell_type": "code",
   "execution_count": null,
   "id": "technological-cocktail",
   "metadata": {},
   "outputs": [],
   "source": []
  }
 ],
 "metadata": {
  "kernelspec": {
   "display_name": "Python 3",
   "language": "python",
   "name": "python3"
  },
  "language_info": {
   "codemirror_mode": {
    "name": "ipython",
    "version": 3
   },
   "file_extension": ".py",
   "mimetype": "text/x-python",
   "name": "python",
   "nbconvert_exporter": "python",
   "pygments_lexer": "ipython3",
   "version": "3.7.7"
  },
  "toc": {
   "base_numbering": 1,
   "nav_menu": {},
   "number_sections": true,
   "sideBar": true,
   "skip_h1_title": false,
   "title_cell": "Table of Contents",
   "title_sidebar": "Contents",
   "toc_cell": false,
   "toc_position": {},
   "toc_section_display": true,
   "toc_window_display": false
  },
  "varInspector": {
   "cols": {
    "lenName": 16,
    "lenType": 16,
    "lenVar": 40
   },
   "kernels_config": {
    "python": {
     "delete_cmd_postfix": "",
     "delete_cmd_prefix": "del ",
     "library": "var_list.py",
     "varRefreshCmd": "print(var_dic_list())"
    },
    "r": {
     "delete_cmd_postfix": ") ",
     "delete_cmd_prefix": "rm(",
     "library": "var_list.r",
     "varRefreshCmd": "cat(var_dic_list()) "
    }
   },
   "types_to_exclude": [
    "module",
    "function",
    "builtin_function_or_method",
    "instance",
    "_Feature"
   ],
   "window_display": false
  }
 },
 "nbformat": 4,
 "nbformat_minor": 5
}
