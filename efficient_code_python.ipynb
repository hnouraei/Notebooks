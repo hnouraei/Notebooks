{
 "cells": [
  {
   "cell_type": "markdown",
   "metadata": {},
   "source": [
    "### python Built-in modules \n",
    "-os\n",
    "\n",
    "-sys\n",
    "\n",
    "-intertools \n",
    "\n",
    "-collections \n",
    "\n",
    "-math \n",
    "\n",
    "and others "
   ]
  },
  {
   "cell_type": "markdown",
   "metadata": {},
   "source": [
    "### Built-in function: enumerate()\n",
    "Creates an indexed list of objects"
   ]
  },
  {
   "cell_type": "code",
   "execution_count": 1,
   "metadata": {},
   "outputs": [
    {
     "name": "stdout",
     "output_type": "stream",
     "text": [
      "[(0, 'a'), (1, 'b'), (2, 'c'), (3, 'd')]\n"
     ]
    }
   ],
   "source": [
    "letters = ['a', 'b', 'c', 'd' ]\n",
    "indexed_letters = enumerate(letters)\n",
    "indexed_letters_list = list(indexed_letters)\n",
    "print(indexed_letters_list)"
   ]
  },
  {
   "cell_type": "code",
   "execution_count": 2,
   "metadata": {},
   "outputs": [
    {
     "name": "stdout",
     "output_type": "stream",
     "text": [
      "[(5, 'a'), (6, 'b'), (7, 'c'), (8, 'd')]\n"
     ]
    }
   ],
   "source": [
    "letters = ['a', 'b', 'c', 'd' ]\n",
    "indexed_letters2 = enumerate(letters, start=5)\n",
    "indexed_letters2_list = list(indexed_letters2)\n",
    "print(indexed_letters2_list)"
   ]
  },
  {
   "cell_type": "markdown",
   "metadata": {},
   "source": [
    "### Built-in function: map()\n",
    "Applies a function over an object"
   ]
  },
  {
   "cell_type": "code",
   "execution_count": 4,
   "metadata": {},
   "outputs": [
    {
     "name": "stdout",
     "output_type": "stream",
     "text": [
      "[2, 2, 3, 5, 5]\n"
     ]
    }
   ],
   "source": [
    "nums = [1.5, 2.3, 3.4, 4.6, 5.0]\n",
    "rnd_nums = map(round, nums)\n",
    "print(list(rnd_nums))"
   ]
  },
  {
   "cell_type": "code",
   "execution_count": 5,
   "metadata": {},
   "outputs": [
    {
     "name": "stdout",
     "output_type": "stream",
     "text": [
      "[1, 4, 9, 16, 25]\n"
     ]
    }
   ],
   "source": [
    "nums = [1, 2, 3, 4, 5]\n",
    "sqrd_nums = map(lambda x: x ** 2, nums)\n",
    "print(list(sqrd_nums))"
   ]
  },
  {
   "cell_type": "markdown",
   "metadata": {},
   "source": [
    "### asterisk (*) operator in Python"
   ]
  },
  {
   "cell_type": "markdown",
   "metadata": {},
   "source": [
    "- \\* and \\** They are operators that unpack the values from iterable objects in python \n",
    "- \\* can be useed on any iterable that python provides \n",
    "- \\** can only be used on dictionaires \n"
   ]
  },
  {
   "cell_type": "code",
   "execution_count": 7,
   "metadata": {},
   "outputs": [
    {
     "name": "stdout",
     "output_type": "stream",
     "text": [
      "[1, 2, 3, 4]\n"
     ]
    }
   ],
   "source": [
    "# compare these two sections of codes \n",
    "my_list=[1,2,3,4]\n",
    "print (my_list)"
   ]
  },
  {
   "cell_type": "code",
   "execution_count": 8,
   "metadata": {},
   "outputs": [
    {
     "name": "stdout",
     "output_type": "stream",
     "text": [
      "1 2 3 4\n"
     ]
    }
   ],
   "source": [
    "# this is the meaning of unpacking \n",
    "print(*my_list)"
   ]
  },
  {
   "cell_type": "code",
   "execution_count": 21,
   "metadata": {},
   "outputs": [
    {
     "name": "stdout",
     "output_type": "stream",
     "text": [
      " a: 1 \n",
      " b: [2, 3, 4, 5] \n",
      " c: 6\n"
     ]
    }
   ],
   "source": [
    "my_list=[1,2,3,4,5,6]\n",
    "a,*b,c=my_list \n",
    "print (\" a: {}\".format(a),\"\\n\",\"b: {}\".format(b),\"\\n\",\"c: {}\".format(c))"
   ]
  },
  {
   "cell_type": "code",
   "execution_count": 22,
   "metadata": {},
   "outputs": [
    {
     "name": "stdout",
     "output_type": "stream",
     "text": [
      "{'A': 1, 'B': 2, 'C': 3, 'D': 4}\n"
     ]
    }
   ],
   "source": [
    "# double asteries is used for dictionaiers only \n",
    "my_first_dict={\"A\": 1,\"B\": 2}\n",
    "my_second_dict={\"C\": 3, \"D\": 4}\n",
    "my_merged_dict={**my_first_dict, **my_second_dict}\n",
    "print(my_merged_dict)"
   ]
  },
  {
   "cell_type": "code",
   "execution_count": 23,
   "metadata": {},
   "outputs": [
    {
     "name": "stdout",
     "output_type": "stream",
     "text": [
      "['H', 'o', 'o', 'm', 'a', 'n', ' ', 'N', 'o', 'u', 'r', 'a', 'e', 'i']\n"
     ]
    }
   ],
   "source": [
    "# single asterisk can be used to unpack strings\n",
    "a = [*\"Hooman Nouraei\"]\n",
    "print(a)"
   ]
  },
  {
   "cell_type": "code",
   "execution_count": 36,
   "metadata": {},
   "outputs": [
    {
     "name": "stdout",
     "output_type": "stream",
     "text": [
      "['JERRY', 'KRAMER', 'ELAINE', 'GEORGE', 'NEWMAN']\n"
     ]
    }
   ],
   "source": [
    "names = ['Jerry', 'Kramer', 'Elaine', 'George', 'Newman']\n",
    "\n",
    "names_map  = [*map(str.upper, names)]\n",
    "\n",
    "print(names_map)"
   ]
  },
  {
   "cell_type": "markdown",
   "metadata": {},
   "source": [
    "## Zen of Python\n",
    "The Zen of Python is one of these PEPs and is documented as PEP20.\n",
    "\n",
    "One little Easter Egg in Python is the ability to print the Zen of Python using the command import this. Let's take a look at one of the idioms listed in these guiding principles."
   ]
  },
  {
   "cell_type": "code",
   "execution_count": 1,
   "metadata": {
    "ExecuteTime": {
     "end_time": "2021-01-08T14:40:25.016381Z",
     "start_time": "2021-01-08T14:40:24.944452Z"
    },
    "collapsed": true,
    "jupyter": {
     "outputs_hidden": true
    }
   },
   "outputs": [
    {
     "name": "stdout",
     "output_type": "stream",
     "text": [
      "The Zen of Python, by Tim Peters\n",
      "\n",
      "Beautiful is better than ugly.\n",
      "Explicit is better than implicit.\n",
      "Simple is better than complex.\n",
      "Complex is better than complicated.\n",
      "Flat is better than nested.\n",
      "Sparse is better than dense.\n",
      "Readability counts.\n",
      "Special cases aren't special enough to break the rules.\n",
      "Although practicality beats purity.\n",
      "Errors should never pass silently.\n",
      "Unless explicitly silenced.\n",
      "In the face of ambiguity, refuse the temptation to guess.\n",
      "There should be one-- and preferably only one --obvious way to do it.\n",
      "Although that way may not be obvious at first unless you're Dutch.\n",
      "Now is better than never.\n",
      "Although never is often better than *right* now.\n",
      "If the implementation is hard to explain, it's a bad idea.\n",
      "If the implementation is easy to explain, it may be a good idea.\n",
      "Namespaces are one honking great idea -- let's do more of those!\n"
     ]
    }
   ],
   "source": [
    "import this\n"
   ]
  },
  {
   "cell_type": "markdown",
   "metadata": {
    "ExecuteTime": {
     "end_time": "2021-01-11T14:24:18.106985Z",
     "start_time": "2021-01-11T14:24:18.099642Z"
    }
   },
   "source": [
    "## Examining runtime by using magic commands"
   ]
  },
  {
   "cell_type": "markdown",
   "metadata": {},
   "source": [
    "### Using %timeit"
   ]
  },
  {
   "cell_type": "code",
   "execution_count": 3,
   "metadata": {
    "ExecuteTime": {
     "end_time": "2021-01-11T14:25:46.908613Z",
     "start_time": "2021-01-11T14:25:46.893136Z"
    }
   },
   "outputs": [],
   "source": [
    "import numpy as np "
   ]
  },
  {
   "cell_type": "code",
   "execution_count": 4,
   "metadata": {
    "ExecuteTime": {
     "end_time": "2021-01-11T14:26:25.445260Z",
     "start_time": "2021-01-11T14:26:25.373172Z"
    }
   },
   "outputs": [],
   "source": [
    "rand_nums = np.random.rand(1000)"
   ]
  },
  {
   "cell_type": "code",
   "execution_count": 5,
   "metadata": {
    "ExecuteTime": {
     "end_time": "2021-01-11T14:27:29.614272Z",
     "start_time": "2021-01-11T14:27:20.759301Z"
    }
   },
   "outputs": [
    {
     "name": "stdout",
     "output_type": "stream",
     "text": [
      "11.2 µs ± 2.39 µs per loop (mean ± std. dev. of 7 runs, 100000 loops each)\n"
     ]
    }
   ],
   "source": [
    "# timing with %timeit\n",
    "%timeit rand_nums = np.random.rand(1000)"
   ]
  },
  {
   "cell_type": "code",
   "execution_count": 6,
   "metadata": {
    "ExecuteTime": {
     "end_time": "2021-01-11T14:33:05.943987Z",
     "start_time": "2021-01-11T14:33:05.936445Z"
    }
   },
   "outputs": [
    {
     "name": "stdout",
     "output_type": "stream",
     "text": [
      "The slowest run took 6.65 times longer than the fastest. This could mean that an intermediate result is being cached.\n",
      "35.8 µs ± 26.4 µs per loop (mean ± std. dev. of 2 runs, 10 loops each)\n"
     ]
    }
   ],
   "source": [
    "# specifing the number of runs or the number of loops for %timneit\n",
    "%timeit -r2 -n10 rand_nums=np.random.rand(1000)"
   ]
  },
  {
   "cell_type": "markdown",
   "metadata": {},
   "source": [
    "- using two %% for timeit will apply timeit to multiple lines of code in the block \n",
    "- we can store the timeit by using -o "
   ]
  },
  {
   "cell_type": "code",
   "execution_count": 7,
   "metadata": {
    "ExecuteTime": {
     "end_time": "2021-01-11T14:36:35.250779Z",
     "start_time": "2021-01-11T14:36:26.152217Z"
    }
   },
   "outputs": [
    {
     "name": "stdout",
     "output_type": "stream",
     "text": [
      "11.6 µs ± 2.2 µs per loop (mean ± std. dev. of 7 runs, 100000 loops each)\n"
     ]
    }
   ],
   "source": [
    "# savinging timeit in a variable using -o \n",
    "times = %timeit -o rand_nums = np.random.rand(1000)"
   ]
  },
  {
   "cell_type": "code",
   "execution_count": 9,
   "metadata": {
    "ExecuteTime": {
     "end_time": "2021-01-11T14:36:54.350638Z",
     "start_time": "2021-01-11T14:36:54.343118Z"
    }
   },
   "outputs": [
    {
     "name": "stdout",
     "output_type": "stream",
     "text": [
      "11.6 µs ± 2.2 µs per loop (mean ± std. dev. of 7 runs, 100000 loops each)\n"
     ]
    }
   ],
   "source": [
    "print(times)"
   ]
  },
  {
   "cell_type": "code",
   "execution_count": 10,
   "metadata": {
    "ExecuteTime": {
     "end_time": "2021-01-11T14:37:40.947552Z",
     "start_time": "2021-01-11T14:37:40.936699Z"
    }
   },
   "outputs": [
    {
     "data": {
      "text/plain": [
       "[7.0892559998901564e-06,\n",
       " 1.1961980999913067e-05,\n",
       " 1.2153002999839372e-05,\n",
       " 1.4050523999612778e-05,\n",
       " 1.1502897000173106e-05,\n",
       " 1.070155400026124e-05,\n",
       " 1.408470199967269e-05]"
      ]
     },
     "execution_count": 10,
     "metadata": {},
     "output_type": "execute_result"
    }
   ],
   "source": [
    "times.timings"
   ]
  },
  {
   "cell_type": "code",
   "execution_count": 11,
   "metadata": {
    "ExecuteTime": {
     "end_time": "2021-01-11T14:37:45.605443Z",
     "start_time": "2021-01-11T14:37:45.590127Z"
    }
   },
   "outputs": [
    {
     "data": {
      "text/plain": [
       "7.0892559998901564e-06"
      ]
     },
     "execution_count": 11,
     "metadata": {},
     "output_type": "execute_result"
    }
   ],
   "source": [
    "times.best "
   ]
  },
  {
   "cell_type": "code",
   "execution_count": 12,
   "metadata": {
    "ExecuteTime": {
     "end_time": "2021-01-11T14:37:50.262430Z",
     "start_time": "2021-01-11T14:37:50.247141Z"
    }
   },
   "outputs": [
    {
     "data": {
      "text/plain": [
       "1.408470199967269e-05"
      ]
     },
     "execution_count": 12,
     "metadata": {},
     "output_type": "execute_result"
    }
   ],
   "source": [
    "times.worst"
   ]
  },
  {
   "cell_type": "markdown",
   "metadata": {},
   "source": [
    "### Example: comparing times between \n",
    "\n",
    "- data structure created using formal name and \n",
    "- data structure created using literal syntax \n",
    "\n",
    "list(), dict(), tuple() vs. [],{},()"
   ]
  },
  {
   "cell_type": "code",
   "execution_count": 18,
   "metadata": {
    "ExecuteTime": {
     "end_time": "2021-01-11T14:57:38.333065Z",
     "start_time": "2021-01-11T14:57:30.008878Z"
    }
   },
   "outputs": [
    {
     "name": "stdout",
     "output_type": "stream",
     "text": [
      "77.4 ns ± 3.73 ns per loop (mean ± std. dev. of 7 runs, 10000000 loops each)\n",
      "25.4 ns ± 0.286 ns per loop (mean ± std. dev. of 7 runs, 10000000 loops each)\n",
      "l_time better than f_time by 52 ns\n"
     ]
    }
   ],
   "source": [
    "f_times = %timeit -o formal_dict=dict()\n",
    "l_times = %timeit -o literal_dict={}\n",
    "\n",
    "diff = (f_times.average - l_times.average)*(10**9)\n",
    "print ('l_time better than f_time by {} ns'.format(round(diff)))"
   ]
  },
  {
   "cell_type": "markdown",
   "metadata": {},
   "source": [
    "## Code Profiling \n",
    "we obtain detailed stats on frequency and duration of function calls. By using %timeit or %%timeit we only get \n",
    "\n",
    "the total run time. However, using line_profiler will provide us the line by line run time. For installing line_profiler use\n",
    "\n",
    "`conda install -c anaconda line_profiler`"
   ]
  },
  {
   "cell_type": "code",
   "execution_count": 70,
   "metadata": {
    "ExecuteTime": {
     "end_time": "2021-01-11T19:13:48.495682Z",
     "start_time": "2021-01-11T19:13:48.472164Z"
    }
   },
   "outputs": [],
   "source": [
    "def num_gen (x):\n",
    "    x=x+1\n",
    "    num_list=[*range(x)]\n",
    "    return num_list"
   ]
  },
  {
   "cell_type": "code",
   "execution_count": 71,
   "metadata": {
    "ExecuteTime": {
     "end_time": "2021-01-11T19:13:53.747255Z",
     "start_time": "2021-01-11T19:13:53.739267Z"
    },
    "scrolled": true
   },
   "outputs": [],
   "source": [
    "import line_profiler"
   ]
  },
  {
   "cell_type": "code",
   "execution_count": 74,
   "metadata": {
    "ExecuteTime": {
     "end_time": "2021-01-11T19:14:33.297072Z",
     "start_time": "2021-01-11T19:14:33.285619Z"
    }
   },
   "outputs": [
    {
     "name": "stdout",
     "output_type": "stream",
     "text": [
      "The line_profiler module is not an IPython extension.\n"
     ]
    }
   ],
   "source": [
    "# loading the line_profiler\n",
    "%load_ext line_profiler"
   ]
  },
  {
   "cell_type": "code",
   "execution_count": 84,
   "metadata": {
    "ExecuteTime": {
     "end_time": "2021-01-11T19:22:56.982303Z",
     "start_time": "2021-01-11T19:22:56.975170Z"
    }
   },
   "outputs": [
    {
     "name": "stdout",
     "output_type": "stream",
     "text": [
      " "
     ]
    }
   ],
   "source": [
    "%prun num_gen(500)"
   ]
  },
  {
   "cell_type": "markdown",
   "metadata": {},
   "source": [
    "### cProfile: another method of runtime calculation"
   ]
  },
  {
   "cell_type": "code",
   "execution_count": 76,
   "metadata": {
    "ExecuteTime": {
     "end_time": "2021-01-11T19:15:48.869582Z",
     "start_time": "2021-01-11T19:15:48.862702Z"
    }
   },
   "outputs": [],
   "source": [
    "# cProfile is recommended for most users; it’s a C extension with reasonable overhead that makes it suitable for profiling long-running programs.\n",
    "import cProfile"
   ]
  },
  {
   "cell_type": "code",
   "execution_count": 77,
   "metadata": {
    "ExecuteTime": {
     "end_time": "2021-01-11T19:15:49.524211Z",
     "start_time": "2021-01-11T19:15:49.509912Z"
    }
   },
   "outputs": [
    {
     "name": "stdout",
     "output_type": "stream",
     "text": [
      "         4 function calls in 0.000 seconds\n",
      "\n",
      "   Ordered by: standard name\n",
      "\n",
      "   ncalls  tottime  percall  cumtime  percall filename:lineno(function)\n",
      "        1    0.000    0.000    0.000    0.000 <ipython-input-70-447281d439fe>:1(num_gen)\n",
      "        1    0.000    0.000    0.000    0.000 <string>:1(<module>)\n",
      "        1    0.000    0.000    0.000    0.000 {built-in method builtins.exec}\n",
      "        1    0.000    0.000    0.000    0.000 {method 'disable' of '_lsprof.Profiler' objects}\n",
      "\n",
      "\n"
     ]
    }
   ],
   "source": [
    "cProfile.run('num_gen(x)')"
   ]
  },
  {
   "cell_type": "markdown",
   "metadata": {},
   "source": [
    "## The collections module\n",
    "Part of Python's Standard Library (built-in module)\n",
    "\n",
    "Specialized container datatypes\n",
    "\n",
    "Alternatives to general purpose dict, list, set, and tuple\n",
    "\n",
    "Notable:\n",
    "\n",
    "namedtuple : tuple subclasses with named ,elds\n",
    "\n",
    "deque : list-like container with fast appends and pops\n",
    "\n",
    "Counter : dict for counting hashable objects\n",
    "\n",
    "OrderedDict : dict that retains order of entries\n",
    "\n",
    "defaultdict : dict that calls a factory function to supply missing values"
   ]
  },
  {
   "cell_type": "markdown",
   "metadata": {},
   "source": [
    "## The itertools module\n",
    "\n",
    "Part of Python's Standard Library (built-in module)\n",
    "\n",
    "Functional tools for creating and using iterators\n",
    "\n",
    "Notable:\n",
    "\n",
    "Infinite iterators: count , cycle , repeat\n",
    "\n",
    "Finite iterators: accumulate , chain , zip_longest , etc.\n",
    "\n",
    "Combination generators: product , permutations , combinations"
   ]
  },
  {
   "cell_type": "markdown",
   "metadata": {},
   "source": [
    "## Set theory\n",
    "\n",
    "Branch of Mathematics applied to collections of objects i.e., sets\n",
    "\n",
    "Python has built-in set datatype with accompanying methods:\n",
    "\n",
    "intersection() : all elements that are in both sets\n",
    "\n",
    "difference() : all elements in one set but not the other\n",
    "\n",
    "symmetric_difference() : all elements in exactly one set\n",
    "\n",
    "union() : all elements that are in either set\n",
    "\n",
    "Fast membership testing\n",
    "Check if a value exists in a sequence or not\n",
    "Using the in operator"
   ]
  },
  {
   "cell_type": "markdown",
   "metadata": {},
   "source": [
    "## Pandas dataframe iteration\n",
    "\n",
    "Iterating with .iterrows() is much faster than .iloc() because it is similar to enumerate() for lists \n",
    "\n",
    "Iterating with .itertuples() is even faster than .iterrows()"
   ]
  },
  {
   "cell_type": "code",
   "execution_count": null,
   "metadata": {},
   "outputs": [],
   "source": [
    "# row is a pandas data series that you can use column index to call out the cells\n",
    "for i,row in baseball_df.iterrows():\n",
    "    wins = row['W']\n",
    "    games_played = row['G']\n",
    "    win_perc = calc_win_perc(wins, games_played)\n",
    "    win_perc_list.append(win_perc)\n",
    "    \n",
    "baseball_df['WP'] = win_perc_list"
   ]
  },
  {
   "cell_type": "code",
   "execution_count": null,
   "metadata": {},
   "outputs": [],
   "source": [
    "for row_namedtuple in team_wins_df.itertuples():\n",
    "    print(row_namedtuple)\n",
    "    \n",
    "# output\n",
    "'''\n",
    "Pandas(Index=0, Team='ARI', Year=2012, W=81)\n",
    "Pandas(Index=1, Team='ATL', Year=2012, W=94)\n",
    "# The out put of .itertuples() is a espceial type of tuple called named tuple. it is just like tuple but\n",
    "the fields are accessible by attribute look up using . method. for example:\n",
    "\n",
    "print (row_namedtuple.Index)\n",
    "print (row_namedtuple.Team)\n",
    "print (row_namedtuple.Year)\n",
    "\n",
    "%%timeit\n",
    "for row_tuple in team_wins_df.iterrows():\n",
    "print(row_tuple)\n",
    "\n",
    "527 ms ± 41.1 ms per loop (mean ± std. dev. of 7 runs, 1 loop each)\n",
    "vs.\n",
    "\n",
    "%%timeit\n",
    "for row_namedtuple in team_wins_df.itertuples():\n",
    "print(row_namedtuple)\n",
    "\n",
    "7.48 ms ± 243 μs per loop (mean ± std. dev. of 7 runs, 100 loops each)\n",
    "\n",
    "'''"
   ]
  },
  {
   "cell_type": "markdown",
   "metadata": {},
   "source": [
    "## pandas .apply() method\n",
    "\n",
    "Takes a function and applies it to a DataFrame. Must specify an axis to apply ( 0 for columns; 1 for rows)\n",
    "\n",
    "Can be used with anonymous functions ( lambda functions)\n",
    "\n",
    "Example:\n",
    "\n",
    "`def calc_run_diff(runs_scored, runs_allowed):\n",
    "    run_diff = runs_scored - runs_allowed\n",
    "    return run_diff`\n",
    "#### The lambda function act a map function, it takes a function and apply it to a data frame. \n",
    "\n",
    "Remember we have to specifiy the axis for the function to be applied. The argument for lambda is row.\n",
    "\n",
    "`baseball_df.apply(lambda row: calc_run_diff(row['RS'], row['RA']),axis=1)`"
   ]
  },
  {
   "cell_type": "markdown",
   "metadata": {},
   "source": [
    "# Power of vectorization \n",
    "\n",
    "## Broadcasting (vectorizing) is extremely efficient!\n",
    "\n",
    "The output is in a form of numpy array since the pandas was built on numpy arrays. The broadcasting approach is must faster than all other approaches. \n",
    "\n",
    "`wins_np = baseball_df['W'].values\n",
    " print(type(wins_np))`\n",
    " \n",
    " Example:\n",
    " \n",
    "`run_diffs_np = baseball_df['RS'].values - baseball_df['RA'].values\n",
    " baseball_df['RD'] = run_diffs_np\n",
    " print(baseball_df)`\n",
    " \n",
    " Example of all the three methods:\n",
    " \n",
    " `win_perc_preds_loop = []\n",
    "\n",
    "#Use a loop and .itertuples() to collect each row's predicted win percentage\n",
    "for row in baseball_df.itertuples():\n",
    "    runs_scored = row.RS\n",
    "    runs_allowed = row.RA\n",
    "    win_perc_pred = predict_win_perc(runs_scored, runs_allowed)\n",
    "    win_perc_preds_loop.append(win_perc_pred)\n",
    "\n",
    "#Apply predict_win_perc to each row of the DataFrame\n",
    "win_perc_preds_apply = baseball_df.apply(lambda row: predict_win_perc(row['RS'], row['RA']), axis=1)\n",
    "\n",
    "#Calculate the win percentage predictions using NumPy arrays\n",
    "win_perc_preds_np = predict_win_perc(baseball_df['RS'].values, baseball_df['RA'].values)\n",
    "baseball_df['WP_preds'] = win_perc_preds_np\n",
    "print(baseball_df.head())`"
   ]
  }
 ],
 "metadata": {
  "kernelspec": {
   "display_name": "Python 3",
   "language": "python",
   "name": "python3"
  },
  "language_info": {
   "codemirror_mode": {
    "name": "ipython",
    "version": 3
   },
   "file_extension": ".py",
   "mimetype": "text/x-python",
   "name": "python",
   "nbconvert_exporter": "python",
   "pygments_lexer": "ipython3",
   "version": "3.7.7"
  },
  "toc": {
   "base_numbering": 1,
   "nav_menu": {},
   "number_sections": true,
   "sideBar": true,
   "skip_h1_title": false,
   "title_cell": "Table of Contents",
   "title_sidebar": "Contents",
   "toc_cell": false,
   "toc_position": {},
   "toc_section_display": true,
   "toc_window_display": true
  },
  "varInspector": {
   "cols": {
    "lenName": 16,
    "lenType": 16,
    "lenVar": 40
   },
   "kernels_config": {
    "python": {
     "delete_cmd_postfix": "",
     "delete_cmd_prefix": "del ",
     "library": "var_list.py",
     "varRefreshCmd": "print(var_dic_list())"
    },
    "r": {
     "delete_cmd_postfix": ") ",
     "delete_cmd_prefix": "rm(",
     "library": "var_list.r",
     "varRefreshCmd": "cat(var_dic_list()) "
    }
   },
   "types_to_exclude": [
    "module",
    "function",
    "builtin_function_or_method",
    "instance",
    "_Feature"
   ],
   "window_display": false
  }
 },
 "nbformat": 4,
 "nbformat_minor": 4
}
