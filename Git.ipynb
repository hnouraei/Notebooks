{
 "cells": [
  {
   "cell_type": "markdown",
   "metadata": {},
   "source": [
    "# Git basic commands"
   ]
  },
  {
   "cell_type": "markdown",
   "metadata": {},
   "source": [
    "#### initialize local Git repository\n",
    "We use this command in the folder that we want to initialize it as a local git repository. It will create a .git folder.    \n",
    "` $git init` \n",
    "\n",
    "#### add file to index \n",
    "you can use this command as many times as needed to add files to the staging area before comitting \n",
    "` $git add <file>`\n",
    "  - Example: `git add *.html` # add any html files\n",
    "  - Example: `git add .` # add any files in the folder\n",
    "#### shows the difference between the \n",
    "`$ git  status `\n",
    "#### add files from the staging area to the local repository \n",
    "`$ git commmit`\n",
    "\n",
    "after typing `git commit` we have to press \"i\" in order to be able to insert in the window. \n",
    "Everything that has the number sign is a commont. After pressing i then remove number sign infront of initial commit and press ESC key then type `:wq` \n",
    "\n",
    "#### Remote repository \n",
    "##### Push to Remote Repository \n",
    "`$ git push`\n",
    "##### pull latest from remote repository \n",
    "`$ git pull`\n",
    "##### Colone respository into a new directory\n",
    "`$ git clone lone` \n",
    "\n",
    "###### Create a file using git \n",
    "- create a folder \n",
    "- rightclick and open git\n",
    "\n",
    "`touch index.html`\n",
    "\n",
    "#### Adding name and email to local repository after initialize the local repository by $ git init\n",
    "`$ git config --global user.name 'Hooman Nouraei'`\n",
    "`$ git config --global user.email 'nouraei@gmail.com'`\n",
    "\n",
    "#### Remove file from local repository after adding it using git add \n",
    "$ git rm --cached index.html\n",
    "\n",
    "##### Commit changes to local repository \n",
    "`$ git commit -m 'changed app.js'`\n",
    "\n",
    "The git commit -m is used to skip the editing part where you have to press i and then remove the number sign infront of initial commit and then pressing ESC and typing :wq. \n",
    "\n",
    "\n",
    "### Creating a new branch \n",
    "`$ git checkout <branch name>`\n",
    " \n",
    " to switch back to master we use:\n",
    " `$ git checkout master`\n",
    " \n",
    " ### merge the branch in to master \n",
    " after we finich the code on the branch and ready to merget it to master we must be in master and then type the following command. It will open up the editor \n",
    " \n",
    " `$ git merge <branch_name>`"
   ]
  },
  {
   "cell_type": "markdown",
   "metadata": {},
   "source": [
    "### Remote commit \n",
    "git remote \n",
    "### add remote repository address \n",
    "git remote add origin https://github.com/hnouraei/myappssamle.github\n",
    "\n",
    "### Puch to remote repository \n",
    "git puch -u orgin master "
   ]
  },
  {
   "cell_type": "markdown",
   "metadata": {},
   "source": [
    "# Github API "
   ]
  },
  {
   "cell_type": "code",
   "execution_count": null,
   "metadata": {},
   "outputs": [],
   "source": [
    "pip install PyGithub"
   ]
  },
  {
   "cell_type": "code",
   "execution_count": 1,
   "metadata": {
    "ExecuteTime": {
     "end_time": "2021-03-10T17:06:38.236313Z",
     "start_time": "2021-03-10T17:06:37.962760Z"
    }
   },
   "outputs": [],
   "source": [
    "from github import Github"
   ]
  },
  {
   "cell_type": "code",
   "execution_count": 5,
   "metadata": {
    "ExecuteTime": {
     "end_time": "2021-03-10T17:20:03.470380Z",
     "start_time": "2021-03-10T17:20:03.455475Z"
    }
   },
   "outputs": [],
   "source": [
    "# personal access token for testing \n",
    "access_token = 'acda9f160a87b215d7b21f8fd0fc69f73f5f7a9e'"
   ]
  },
  {
   "cell_type": "code",
   "execution_count": 6,
   "metadata": {
    "ExecuteTime": {
     "end_time": "2021-03-10T17:20:05.088971Z",
     "start_time": "2021-03-10T17:20:05.071837Z"
    }
   },
   "outputs": [],
   "source": [
    "# or using an access token\n",
    "g = Github(access_token)"
   ]
  },
  {
   "cell_type": "code",
   "execution_count": 7,
   "metadata": {
    "ExecuteTime": {
     "end_time": "2021-03-10T17:20:06.666301Z",
     "start_time": "2021-03-10T17:20:06.021185Z"
    }
   },
   "outputs": [
    {
     "name": "stdout",
     "output_type": "stream",
     "text": [
      "AppliedDataAnalysis\n",
      "Complete-Python-3-Bootcamp\n",
      "Data-Science--Cheat-Sheet\n",
      "DataCamp\n",
      "dtale\n",
      "flair\n",
      "githubcommit\n",
      "handson-ml\n",
      "Homework-0\n",
      "hypermax\n",
      "Machine-Learning-With-XGboost-live-training\n",
      "Most-popular-task\n",
      "myappssamle\n",
      "NLP-progress\n",
      "Notebooks\n",
      "plotly.js\n",
      "py\n",
      "pycaret\n",
      "pycharm_HN_test\n",
      "pycharm_test\n",
      "pydata-book\n",
      "PythonDataScienceHandbook\n",
      "structured-text-tools\n",
      "weclouddata\n"
     ]
    }
   ],
   "source": [
    "# Then play with your Github objects:\n",
    "for repo in g.get_user().get_repos():\n",
    "    print(repo.name)"
   ]
  },
  {
   "cell_type": "code",
   "execution_count": null,
   "metadata": {},
   "outputs": [],
   "source": []
  }
 ],
 "metadata": {
  "kernelspec": {
   "display_name": "Python 3",
   "language": "python",
   "name": "python3"
  },
  "language_info": {
   "codemirror_mode": {
    "name": "ipython",
    "version": 3
   },
   "file_extension": ".py",
   "mimetype": "text/x-python",
   "name": "python",
   "nbconvert_exporter": "python",
   "pygments_lexer": "ipython3",
   "version": "3.7.7"
  },
  "toc": {
   "base_numbering": 1,
   "nav_menu": {},
   "number_sections": true,
   "sideBar": true,
   "skip_h1_title": false,
   "title_cell": "Table of Contents",
   "title_sidebar": "Contents",
   "toc_cell": false,
   "toc_position": {},
   "toc_section_display": true,
   "toc_window_display": true
  },
  "varInspector": {
   "cols": {
    "lenName": 16,
    "lenType": 16,
    "lenVar": 40
   },
   "kernels_config": {
    "python": {
     "delete_cmd_postfix": "",
     "delete_cmd_prefix": "del ",
     "library": "var_list.py",
     "varRefreshCmd": "print(var_dic_list())"
    },
    "r": {
     "delete_cmd_postfix": ") ",
     "delete_cmd_prefix": "rm(",
     "library": "var_list.r",
     "varRefreshCmd": "cat(var_dic_list()) "
    }
   },
   "types_to_exclude": [
    "module",
    "function",
    "builtin_function_or_method",
    "instance",
    "_Feature"
   ],
   "window_display": false
  }
 },
 "nbformat": 4,
 "nbformat_minor": 4
}
