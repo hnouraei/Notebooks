{
 "cells": [
  {
   "cell_type": "code",
   "execution_count": 3,
   "id": "unexpected-lightning",
   "metadata": {
    "ExecuteTime": {
     "end_time": "2021-03-14T21:11:56.213183Z",
     "start_time": "2021-03-14T21:11:56.194188Z"
    }
   },
   "outputs": [
    {
     "data": {
      "text/plain": [
       "'d:\\\\Notebooks'"
      ]
     },
     "execution_count": 3,
     "metadata": {},
     "output_type": "execute_result"
    }
   ],
   "source": [
    "pwd"
   ]
  },
  {
   "cell_type": "code",
   "execution_count": 4,
   "id": "guilty-withdrawal",
   "metadata": {
    "ExecuteTime": {
     "end_time": "2021-03-14T21:16:24.254532Z",
     "start_time": "2021-03-14T21:16:23.941784Z"
    }
   },
   "outputs": [],
   "source": [
    "import pandas as pd "
   ]
  },
  {
   "cell_type": "code",
   "execution_count": 17,
   "id": "competent-commercial",
   "metadata": {
    "ExecuteTime": {
     "end_time": "2021-03-14T21:31:21.070026Z",
     "start_time": "2021-03-14T21:31:21.056457Z"
    }
   },
   "outputs": [],
   "source": [
    "import os, glob "
   ]
  },
  {
   "cell_type": "markdown",
   "id": "secret-russia",
   "metadata": {},
   "source": [
    "glob.glob(pathname, *, recursive=False)\n",
    "Return a possibly-empty list of path names that match pathname, which must be a string containing a path specification. pathname can be either absolute (like /usr/src/Python-1.5/Makefile) or relative (like ../../Tools/*/*.gif), and can contain shell-style wildcards. Broken symlinks are included in the results (as in the shell). Whether or not the results are sorted depends on the file system. If a file that satisfies conditions is removed or added during the call of this function, whether a path name for that file be included is unspecified.\n",
    "\n",
    "If recursive is true, the pattern “**” will match any files and zero or more directories, subdirectories and symbolic links to directories. If the pattern is followed by an os.sep or os.altsep then files will not match.\n",
    "\n",
    "Raises an auditing event glob.glob with arguments pathname, recursive.\n",
    "\n",
    "\n",
    "\n",
    "https://docs.python.org/3/library/glob.html"
   ]
  },
  {
   "cell_type": "code",
   "execution_count": 20,
   "id": "simplified-bicycle",
   "metadata": {
    "ExecuteTime": {
     "end_time": "2021-03-14T21:33:47.245261Z",
     "start_time": "2021-03-14T21:33:47.231738Z"
    }
   },
   "outputs": [
    {
     "name": "stdout",
     "output_type": "stream",
     "text": [
      "['capital-onebike.csv', 'homelessness.csv', 'new.csv', 'PUBG.csv', 'sales_subset.csv', 'stock_data.csv', 'temperatures.csv', 'Time_Series_Tesla_Stock_Price.csv', 'weather_data.csv']\n"
     ]
    }
   ],
   "source": [
    "path_csv=glob.glob(\"*.csv\")\n",
    "print(path_csv)"
   ]
  },
  {
   "cell_type": "code",
   "execution_count": 9,
   "id": "environmental-invalid",
   "metadata": {
    "ExecuteTime": {
     "end_time": "2021-03-14T21:21:31.431279Z",
     "start_time": "2021-03-14T21:21:31.415279Z"
    }
   },
   "outputs": [],
   "source": [
    "import pprint"
   ]
  },
  {
   "cell_type": "code",
   "execution_count": 12,
   "id": "native-notion",
   "metadata": {
    "ExecuteTime": {
     "end_time": "2021-03-14T21:22:23.947454Z",
     "start_time": "2021-03-14T21:22:23.931331Z"
    }
   },
   "outputs": [],
   "source": [
    "list_file = os.listdir()"
   ]
  },
  {
   "cell_type": "code",
   "execution_count": 16,
   "id": "guided-companion",
   "metadata": {
    "ExecuteTime": {
     "end_time": "2021-03-14T21:24:27.282927Z",
     "start_time": "2021-03-14T21:24:27.269858Z"
    },
    "collapsed": true
   },
   "outputs": [
    {
     "name": "stdout",
     "output_type": "stream",
     "text": [
      "['.bash_history',\n",
      " '.condarc',\n",
      " '.gitconfig',\n",
      " '.ipynb_checkpoints',\n",
      " '.python_history',\n",
      " '.viminfo',\n",
      " '.virtual_documents',\n",
      " 'avoplotto.pkl',\n",
      " 'bokehtest.ipynb',\n",
      " 'bokeh_example.py',\n",
      " 'bokeh_example_1.ipynb',\n",
      " 'capital-onebike.csv',\n",
      " 'Data_Analysis_1.ipynb',\n",
      " 'data_types_python.ipynb',\n",
      " 'Data_Visualization_plotly.ipynb',\n",
      " 'debug.log',\n",
      " 'efficient_code_python.ipynb',\n",
      " 'florida_hurricane_dates.pkl',\n",
      " 'Git.ipynb',\n",
      " 'grouped-bar.html',\n",
      " 'Hello_world.py',\n",
      " 'homelessness.csv',\n",
      " 'hoomannouraei.html',\n",
      " 'Kaggle API.ipynb',\n",
      " 'Library_Pandas_1 (Data Manipulation).ipynb',\n",
      " 'Library_Pandas_10 (Analyzing Police Activity with Pandas).ipynb',\n",
      " 'Library_Pandas_2 (working with categorical data) .ipynb',\n",
      " 'Library_Pandas_3 (Dealing with Missing Data in Python) .ipynb',\n",
      " 'Library_Pandas_4 (Cleaning Data in Python) .ipynb',\n",
      " 'Library_Pandas_5 (Joining Data with Pandas).ipynb',\n",
      " 'Library_Pandas_6 (Manipulating DataFrame with Pandas).ipynb',\n",
      " 'Library_Pandas_7 (Merging DataFrames with Pandas).ipynb',\n",
      " 'Library_Pandas_8 (Reshaping Data with Pandas).ipynb',\n",
      " 'Library_Pandas_9 (Streamlined Data Ingestion with Pandas).ipynb',\n",
      " 'new.csv',\n",
      " 'new.xlsx',\n",
      " 'PUBG.csv',\n",
      " 'Python.ipynb',\n",
      " 'Python_fun_coding .ipynb',\n",
      " 'Python_WebScraping_Tutorial.ipynb',\n",
      " 'Regular Expressions.ipynb',\n",
      " 'sales_subset.csv',\n",
      " 'scratch_1.py',\n",
      " 'speedup_pandas.ipynb',\n",
      " 'stock_data.csv',\n",
      " 'temperatures.csv',\n",
      " 'test.html',\n",
      " 'Time_Series_Tesla_Stock_Price.csv',\n",
      " 'Unit_Testing_Example.ipynb',\n",
      " 'Unit_Testing_Example.py',\n",
      " 'Untitled.ipynb',\n",
      " 'weather_data.csv',\n",
      " 'Working_with_Dates_and_Times.ipynb']\n"
     ]
    }
   ],
   "source": [
    "pprint.pprint(list_file)"
   ]
  },
  {
   "cell_type": "code",
   "execution_count": 22,
   "id": "enormous-vertical",
   "metadata": {
    "ExecuteTime": {
     "end_time": "2021-03-14T21:46:37.809963Z",
     "start_time": "2021-03-14T21:46:37.782967Z"
    },
    "collapsed": true
   },
   "outputs": [
    {
     "name": "stdout",
     "output_type": "stream",
     "text": [
      "Wall time: 3 ms\n"
     ]
    },
    {
     "data": {
      "text/html": [
       "<div>\n",
       "<style scoped>\n",
       "    .dataframe tbody tr th:only-of-type {\n",
       "        vertical-align: middle;\n",
       "    }\n",
       "\n",
       "    .dataframe tbody tr th {\n",
       "        vertical-align: top;\n",
       "    }\n",
       "\n",
       "    .dataframe thead th {\n",
       "        text-align: right;\n",
       "    }\n",
       "</style>\n",
       "<table border=\"1\" class=\"dataframe\">\n",
       "  <thead>\n",
       "    <tr style=\"text-align: right;\">\n",
       "      <th></th>\n",
       "      <th>tickers</th>\n",
       "      <th>eps</th>\n",
       "      <th>revenue</th>\n",
       "      <th>price</th>\n",
       "      <th>people</th>\n",
       "    </tr>\n",
       "  </thead>\n",
       "  <tbody>\n",
       "    <tr>\n",
       "      <th>0</th>\n",
       "      <td>GOOGL</td>\n",
       "      <td>27.82</td>\n",
       "      <td>87</td>\n",
       "      <td>845</td>\n",
       "      <td>larry page</td>\n",
       "    </tr>\n",
       "    <tr>\n",
       "      <th>1</th>\n",
       "      <td>WMT</td>\n",
       "      <td>4.61</td>\n",
       "      <td>484</td>\n",
       "      <td>65</td>\n",
       "      <td>n.a.</td>\n",
       "    </tr>\n",
       "    <tr>\n",
       "      <th>2</th>\n",
       "      <td>MSFT</td>\n",
       "      <td>-1</td>\n",
       "      <td>85</td>\n",
       "      <td>64</td>\n",
       "      <td>bill gates</td>\n",
       "    </tr>\n",
       "    <tr>\n",
       "      <th>3</th>\n",
       "      <td>RIL</td>\n",
       "      <td>not available</td>\n",
       "      <td>50</td>\n",
       "      <td>1023</td>\n",
       "      <td>mukesh ambani</td>\n",
       "    </tr>\n",
       "    <tr>\n",
       "      <th>4</th>\n",
       "      <td>TATA</td>\n",
       "      <td>5.6</td>\n",
       "      <td>-1</td>\n",
       "      <td>n.a.</td>\n",
       "      <td>ratan tata</td>\n",
       "    </tr>\n",
       "  </tbody>\n",
       "</table>\n",
       "</div>"
      ],
      "text/plain": [
       "  tickers            eps  revenue price         people\n",
       "0   GOOGL          27.82       87   845     larry page\n",
       "1     WMT           4.61      484    65           n.a.\n",
       "2    MSFT             -1       85    64     bill gates\n",
       "3    RIL   not available       50  1023  mukesh ambani\n",
       "4    TATA            5.6       -1  n.a.     ratan tata"
      ]
     },
     "execution_count": 22,
     "metadata": {},
     "output_type": "execute_result"
    }
   ],
   "source": [
    "%%time \n",
    "df = pd.read_csv('stock_data.csv')\n",
    "df"
   ]
  },
  {
   "cell_type": "code",
   "execution_count": 23,
   "id": "apart-boundary",
   "metadata": {
    "ExecuteTime": {
     "end_time": "2021-03-14T21:47:12.926715Z",
     "start_time": "2021-03-14T21:47:12.911688Z"
    }
   },
   "outputs": [
    {
     "data": {
      "text/plain": [
       "Index(['tickers', 'eps', 'revenue', 'price', 'people'], dtype='object')"
      ]
     },
     "execution_count": 23,
     "metadata": {},
     "output_type": "execute_result"
    }
   ],
   "source": [
    "df.columns"
   ]
  },
  {
   "cell_type": "code",
   "execution_count": 25,
   "id": "collected-silly",
   "metadata": {
    "ExecuteTime": {
     "end_time": "2021-03-15T13:04:22.249513Z",
     "start_time": "2021-03-15T13:04:18.670037Z"
    }
   },
   "outputs": [
    {
     "name": "stdout",
     "output_type": "stream",
     "text": [
      "44.6 µs ± 9.6 µs per loop (mean ± std. dev. of 7 runs, 10000 loops each)\n"
     ]
    }
   ],
   "source": [
    "%%timeit\n",
    "df.groupby('price').count "
   ]
  },
  {
   "cell_type": "code",
   "execution_count": 26,
   "id": "hired-forestry",
   "metadata": {
    "ExecuteTime": {
     "end_time": "2021-03-15T13:04:37.541196Z",
     "start_time": "2021-03-15T13:04:37.351446Z"
    }
   },
   "outputs": [
    {
     "name": "stderr",
     "output_type": "stream",
     "text": [
      "FutureWarning: The pandas.datetime class is deprecated and will be removed from pandas in a future version. Import from datetime module instead.\n"
     ]
    }
   ],
   "source": [
    "import modin.pandas as pd "
   ]
  },
  {
   "cell_type": "code",
   "execution_count": 27,
   "id": "prospective-motel",
   "metadata": {
    "ExecuteTime": {
     "end_time": "2021-03-15T13:06:26.485331Z",
     "start_time": "2021-03-15T13:06:15.954919Z"
    }
   },
   "outputs": [
    {
     "name": "stderr",
     "output_type": "stream",
     "text": [
      "UserWarning: Dask execution environment not yet initialized. Initializing...\n",
      "To remove this warning, run the following python code before doing dataframe operations:\n",
      "\n",
      "    from distributed import Client\n",
      "\n",
      "    client = Client()\n",
      "\n"
     ]
    },
    {
     "name": "stdout",
     "output_type": "stream",
     "text": [
      "The slowest run took 5.71 times longer than the fastest. This could mean that an intermediate result is being cached.\n",
      "330 ms ± 169 ms per loop (mean ± std. dev. of 7 runs, 1 loop each)\n"
     ]
    }
   ],
   "source": [
    "%%timeit\n",
    "df = pd.read_csv('stock_data.csv')"
   ]
  },
  {
   "cell_type": "code",
   "execution_count": 29,
   "id": "bizarre-botswana",
   "metadata": {
    "ExecuteTime": {
     "end_time": "2021-03-15T13:09:01.746066Z",
     "start_time": "2021-03-15T13:08:59.334408Z"
    }
   },
   "outputs": [
    {
     "name": "stderr",
     "output_type": "stream",
     "text": [
      "UserWarning: Port 8787 is already in use.\n",
      "Perhaps you already have a cluster running?\n",
      "Hosting the HTTP server on port 52299 instead\n"
     ]
    }
   ],
   "source": [
    "from distributed import Client\n",
    "client = Client()"
   ]
  },
  {
   "cell_type": "code",
   "execution_count": 31,
   "id": "developed-signature",
   "metadata": {
    "ExecuteTime": {
     "end_time": "2021-03-15T13:10:12.719633Z",
     "start_time": "2021-03-15T13:10:12.534887Z"
    }
   },
   "outputs": [
    {
     "name": "stdout",
     "output_type": "stream",
     "text": [
      "Wall time: 166 ms\n"
     ]
    }
   ],
   "source": [
    "%%time\n",
    "df = pd.read_csv('stock_data.csv')"
   ]
  },
  {
   "cell_type": "code",
   "execution_count": 34,
   "id": "technological-cocktail",
   "metadata": {
    "ExecuteTime": {
     "end_time": "2021-03-15T13:36:11.216854Z",
     "start_time": "2021-03-15T13:36:08.521493Z"
    }
   },
   "outputs": [],
   "source": [
    "import dask.dataframe as dd "
   ]
  },
  {
   "cell_type": "code",
   "execution_count": 36,
   "id": "patent-township",
   "metadata": {
    "ExecuteTime": {
     "end_time": "2021-03-15T13:37:07.388137Z",
     "start_time": "2021-03-15T13:37:07.223964Z"
    }
   },
   "outputs": [
    {
     "name": "stdout",
     "output_type": "stream",
     "text": [
      "Wall time: 35.1 ms\n"
     ]
    }
   ],
   "source": [
    "%%time \n",
    "df_dask = dd.read_csv ('stock_data.csv')"
   ]
  },
  {
   "cell_type": "code",
   "execution_count": 37,
   "id": "varied-traffic",
   "metadata": {
    "ExecuteTime": {
     "end_time": "2021-03-15T13:37:45.491176Z",
     "start_time": "2021-03-15T13:37:45.468965Z"
    }
   },
   "outputs": [
    {
     "data": {
      "text/plain": [
       "['_HTML_FMT',\n",
       " '__abs__',\n",
       " '__add__',\n",
       " '__and__',\n",
       " '__array__',\n",
       " '__array_ufunc__',\n",
       " '__array_wrap__',\n",
       " '__await__',\n",
       " '__bool__',\n",
       " '__class__',\n",
       " '__complex__',\n",
       " '__contains__',\n",
       " '__dask_graph__',\n",
       " '__dask_keys__',\n",
       " '__dask_layers__',\n",
       " '__dask_optimize__',\n",
       " '__dask_postcompute__',\n",
       " '__dask_postpersist__',\n",
       " '__dask_scheduler__',\n",
       " '__dask_tokenize__',\n",
       " '__delattr__',\n",
       " '__delitem__',\n",
       " '__dict__',\n",
       " '__dir__',\n",
       " '__doc__',\n",
       " '__eq__',\n",
       " '__float__',\n",
       " '__floordiv__',\n",
       " '__format__',\n",
       " '__ge__',\n",
       " '__getattr__',\n",
       " '__getattribute__',\n",
       " '__getitem__',\n",
       " '__getstate__',\n",
       " '__gt__',\n",
       " '__hash__',\n",
       " '__init__',\n",
       " '__init_subclass__',\n",
       " '__int__',\n",
       " '__invert__',\n",
       " '__iter__',\n",
       " '__le__',\n",
       " '__len__',\n",
       " '__long__',\n",
       " '__lt__',\n",
       " '__mod__',\n",
       " '__module__',\n",
       " '__mul__',\n",
       " '__ne__',\n",
       " '__neg__',\n",
       " '__new__',\n",
       " '__nonzero__',\n",
       " '__or__',\n",
       " '__pow__',\n",
       " '__radd__',\n",
       " '__rand__',\n",
       " '__reduce__',\n",
       " '__reduce_ex__',\n",
       " '__repr__',\n",
       " '__rfloordiv__',\n",
       " '__rmod__',\n",
       " '__rmul__',\n",
       " '__ror__',\n",
       " '__rpow__',\n",
       " '__rsub__',\n",
       " '__rtruediv__',\n",
       " '__rxor__',\n",
       " '__setattr__',\n",
       " '__setitem__',\n",
       " '__setstate__',\n",
       " '__sizeof__',\n",
       " '__slots__',\n",
       " '__str__',\n",
       " '__sub__',\n",
       " '__subclasshook__',\n",
       " '__truediv__',\n",
       " '__weakref__',\n",
       " '__xor__',\n",
       " '_accessors',\n",
       " '_args',\n",
       " '_bind_comparison_method',\n",
       " '_bind_operator',\n",
       " '_bind_operator_method',\n",
       " '_constructor',\n",
       " '_contains_index_name',\n",
       " '_cum_agg',\n",
       " '_describe_1d',\n",
       " '_describe_nonnumeric_1d',\n",
       " '_describe_numeric',\n",
       " '_elemwise',\n",
       " '_get_binary_operator',\n",
       " '_get_numeric_data',\n",
       " '_get_unary_operator',\n",
       " '_head',\n",
       " '_ipython_key_completions_',\n",
       " '_is_column_label_reference',\n",
       " '_is_index_level_reference',\n",
       " '_is_partition_type',\n",
       " '_meta',\n",
       " '_meta_nonempty',\n",
       " '_name',\n",
       " '_partition_type',\n",
       " '_partitions',\n",
       " '_rebuild',\n",
       " '_reduction_agg',\n",
       " '_repr_data',\n",
       " '_repr_divisions',\n",
       " '_repr_html_',\n",
       " '_scalarfunc',\n",
       " '_select_columns_or_index',\n",
       " '_skew_1d',\n",
       " '_skew_numeric',\n",
       " '_token_prefix',\n",
       " '_validate_axis',\n",
       " '_validate_chunks',\n",
       " '_var_1d',\n",
       " '_var_mixed',\n",
       " '_var_numeric',\n",
       " '_var_timedeltas',\n",
       " 'abs',\n",
       " 'add',\n",
       " 'align',\n",
       " 'all',\n",
       " 'any',\n",
       " 'append',\n",
       " 'apply',\n",
       " 'applymap',\n",
       " 'assign',\n",
       " 'astype',\n",
       " 'attrs',\n",
       " 'bfill',\n",
       " 'categorize',\n",
       " 'clear_divisions',\n",
       " 'clip',\n",
       " 'clip_lower',\n",
       " 'clip_upper',\n",
       " 'columns',\n",
       " 'combine',\n",
       " 'combine_first',\n",
       " 'compute',\n",
       " 'copy',\n",
       " 'corr',\n",
       " 'count',\n",
       " 'cov',\n",
       " 'cummax',\n",
       " 'cummin',\n",
       " 'cumprod',\n",
       " 'cumsum',\n",
       " 'dask',\n",
       " 'describe',\n",
       " 'diff',\n",
       " 'div',\n",
       " 'divide',\n",
       " 'divisions',\n",
       " 'drop',\n",
       " 'drop_duplicates',\n",
       " 'dropna',\n",
       " 'dtypes',\n",
       " 'empty',\n",
       " 'eps',\n",
       " 'eq',\n",
       " 'eval',\n",
       " 'explode',\n",
       " 'ffill',\n",
       " 'fillna',\n",
       " 'first',\n",
       " 'floordiv',\n",
       " 'ge',\n",
       " 'get_dtype_counts',\n",
       " 'get_ftype_counts',\n",
       " 'get_partition',\n",
       " 'groupby',\n",
       " 'gt',\n",
       " 'head',\n",
       " 'idxmax',\n",
       " 'idxmin',\n",
       " 'iloc',\n",
       " 'index',\n",
       " 'info',\n",
       " 'isin',\n",
       " 'isna',\n",
       " 'isnull',\n",
       " 'items',\n",
       " 'iterrows',\n",
       " 'itertuples',\n",
       " 'join',\n",
       " 'known_divisions',\n",
       " 'last',\n",
       " 'le',\n",
       " 'loc',\n",
       " 'lt',\n",
       " 'map_overlap',\n",
       " 'map_partitions',\n",
       " 'mask',\n",
       " 'max',\n",
       " 'mean',\n",
       " 'melt',\n",
       " 'memory_usage',\n",
       " 'memory_usage_per_partition',\n",
       " 'merge',\n",
       " 'min',\n",
       " 'mod',\n",
       " 'mode',\n",
       " 'mul',\n",
       " 'ndim',\n",
       " 'ne',\n",
       " 'nlargest',\n",
       " 'notnull',\n",
       " 'npartitions',\n",
       " 'nsmallest',\n",
       " 'nunique_approx',\n",
       " 'partitions',\n",
       " 'people',\n",
       " 'persist',\n",
       " 'pipe',\n",
       " 'pivot_table',\n",
       " 'pop',\n",
       " 'pow',\n",
       " 'price',\n",
       " 'prod',\n",
       " 'quantile',\n",
       " 'query',\n",
       " 'radd',\n",
       " 'random_split',\n",
       " 'rdiv',\n",
       " 'reduction',\n",
       " 'rename',\n",
       " 'repartition',\n",
       " 'replace',\n",
       " 'resample',\n",
       " 'reset_index',\n",
       " 'revenue',\n",
       " 'rfloordiv',\n",
       " 'rmod',\n",
       " 'rmul',\n",
       " 'rolling',\n",
       " 'round',\n",
       " 'rpow',\n",
       " 'rsub',\n",
       " 'rtruediv',\n",
       " 'sample',\n",
       " 'select_dtypes',\n",
       " 'sem',\n",
       " 'set_index',\n",
       " 'shape',\n",
       " 'shift',\n",
       " 'shuffle',\n",
       " 'size',\n",
       " 'skew',\n",
       " 'squeeze',\n",
       " 'std',\n",
       " 'sub',\n",
       " 'sum',\n",
       " 'tail',\n",
       " 'tickers',\n",
       " 'to_bag',\n",
       " 'to_csv',\n",
       " 'to_dask_array',\n",
       " 'to_delayed',\n",
       " 'to_hdf',\n",
       " 'to_html',\n",
       " 'to_json',\n",
       " 'to_parquet',\n",
       " 'to_records',\n",
       " 'to_sql',\n",
       " 'to_string',\n",
       " 'to_timestamp',\n",
       " 'truediv',\n",
       " 'values',\n",
       " 'var',\n",
       " 'visualize',\n",
       " 'where']"
      ]
     },
     "execution_count": 37,
     "metadata": {},
     "output_type": "execute_result"
    }
   ],
   "source": [
    "dir(df_dask)"
   ]
  },
  {
   "cell_type": "code",
   "execution_count": 38,
   "id": "african-lover",
   "metadata": {
    "ExecuteTime": {
     "end_time": "2021-03-15T13:38:24.616032Z",
     "start_time": "2021-03-15T13:38:24.514184Z"
    }
   },
   "outputs": [
    {
     "name": "stdout",
     "output_type": "stream",
     "text": [
      "<class 'dask.dataframe.core.DataFrame'>\n",
      "Columns: 5 entries, tickers to people\n",
      "dtypes: object(4), int64(1)"
     ]
    }
   ],
   "source": [
    "df_dask.info()"
   ]
  },
  {
   "cell_type": "code",
   "execution_count": 39,
   "id": "swedish-boards",
   "metadata": {
    "ExecuteTime": {
     "end_time": "2021-03-15T13:38:42.669349Z",
     "start_time": "2021-03-15T13:38:42.398815Z"
    }
   },
   "outputs": [
    {
     "data": {
      "text/html": [
       "<div><strong>Dask DataFrame Structure:</strong></div>\n",
       "<div>\n",
       "<style scoped>\n",
       "    .dataframe tbody tr th:only-of-type {\n",
       "        vertical-align: middle;\n",
       "    }\n",
       "\n",
       "    .dataframe tbody tr th {\n",
       "        vertical-align: top;\n",
       "    }\n",
       "\n",
       "    .dataframe thead th {\n",
       "        text-align: right;\n",
       "    }\n",
       "</style>\n",
       "<table border=\"1\" class=\"dataframe\">\n",
       "  <thead>\n",
       "    <tr style=\"text-align: right;\">\n",
       "      <th></th>\n",
       "      <th>revenue</th>\n",
       "    </tr>\n",
       "    <tr>\n",
       "      <th>npartitions=1</th>\n",
       "      <th></th>\n",
       "    </tr>\n",
       "  </thead>\n",
       "  <tbody>\n",
       "    <tr>\n",
       "      <th></th>\n",
       "      <td>float64</td>\n",
       "    </tr>\n",
       "    <tr>\n",
       "      <th></th>\n",
       "      <td>...</td>\n",
       "    </tr>\n",
       "  </tbody>\n",
       "</table>\n",
       "</div>\n",
       "<div>Dask Name: describe-numeric, 23 tasks</div>"
      ],
      "text/plain": [
       "Dask DataFrame Structure:\n",
       "               revenue\n",
       "npartitions=1         \n",
       "               float64\n",
       "                   ...\n",
       "Dask Name: describe-numeric, 23 tasks"
      ]
     },
     "execution_count": 39,
     "metadata": {},
     "output_type": "execute_result"
    }
   ],
   "source": [
    "df_dask.describe()"
   ]
  },
  {
   "cell_type": "code",
   "execution_count": 43,
   "id": "communist-display",
   "metadata": {
    "ExecuteTime": {
     "end_time": "2021-03-15T13:42:56.506047Z",
     "start_time": "2021-03-15T13:42:25.821074Z"
    }
   },
   "outputs": [
    {
     "name": "stdout",
     "output_type": "stream",
     "text": [
      "Collecting vaex\n",
      "  Downloading vaex-4.0.0-py3-none-any.whl (4.5 kB)\n",
      "Collecting vaex-astro<0.9,>=0.8.0\n",
      "  Downloading vaex_astro-0.8.0-py3-none-any.whl (20 kB)\n",
      "Requirement already satisfied: astropy in c:\\users\\hnour\\anaconda3\\lib\\site-packages (from vaex-astro<0.9,>=0.8.0->vaex) (4.2)\n"
     ]
    },
    {
     "name": "stderr",
     "output_type": "stream",
     "text": [
      "ERROR: Could not install packages due to an EnvironmentError: [WinError 5] Access is denied: 'c:\\\\users\\\\hnour\\\\anaconda3\\\\lib\\\\site-packages\\\\~yarrow\\\\arrow.dll'\n",
      "Consider using the `--user` option or check the permissions.\n",
      "\n"
     ]
    },
    {
     "name": "stdout",
     "output_type": "stream",
     "text": [
      "Collecting vaex-core<5,>=4.0.0\n",
      "  Downloading vaex_core-4.0.1-cp37-cp37m-win_amd64.whl (1.4 MB)\n",
      "Requirement already satisfied: cloudpickle in c:\\users\\hnour\\anaconda3\\lib\\site-packages (from vaex-core<5,>=4.0.0->vaex) (1.6.0)\n",
      "Requirement already satisfied: dask[array] in c:\\users\\hnour\\anaconda3\\lib\\site-packages (from vaex-core<5,>=4.0.0->vaex) (2021.2.0)\n",
      "Requirement already satisfied: numpy>=1.16 in c:\\users\\hnour\\anaconda3\\lib\\site-packages (from vaex-core<5,>=4.0.0->vaex) (1.19.2)\n",
      "Requirement already satisfied: psutil>=1.2.1 in c:\\users\\hnour\\anaconda3\\lib\\site-packages (from vaex-core<5,>=4.0.0->vaex) (5.8.0)\n",
      "Requirement already satisfied: pyyaml in c:\\users\\hnour\\anaconda3\\lib\\site-packages (from vaex-core<5,>=4.0.0->vaex) (5.4.1)\n",
      "Requirement already satisfied: six in c:\\users\\hnour\\anaconda3\\lib\\site-packages (from vaex-core<5,>=4.0.0->vaex) (1.15.0)\n",
      "Requirement already satisfied: nest-asyncio>=1.3.3 in c:\\users\\hnour\\anaconda3\\lib\\site-packages (from vaex-core<5,>=4.0.0->vaex) (1.4.3)\n",
      "Requirement already satisfied: tabulate>=0.8.3 in c:\\users\\hnour\\anaconda3\\lib\\site-packages (from vaex-core<5,>=4.0.0->vaex) (0.8.6)\n",
      "Requirement already satisfied: pandas in c:\\users\\hnour\\anaconda3\\lib\\site-packages (from vaex-core<5,>=4.0.0->vaex) (1.2.3)\n",
      "Requirement already satisfied: requests in c:\\users\\hnour\\anaconda3\\lib\\site-packages (from vaex-core<5,>=4.0.0->vaex) (2.25.1)\n",
      "Requirement already satisfied: future>=0.15.2 in c:\\users\\hnour\\anaconda3\\lib\\site-packages (from vaex-core<5,>=4.0.0->vaex) (0.18.2)\n",
      "Collecting pyarrow>=3.0\n",
      "  Downloading pyarrow-3.0.0-cp37-cp37m-win_amd64.whl (12.6 MB)\n",
      "Collecting vaex-hdf5<0.8,>=0.7.0\n",
      "  Downloading vaex_hdf5-0.7.0-py3-none-any.whl (15 kB)\n",
      "Requirement already satisfied: h5py>=2.9 in c:\\users\\hnour\\anaconda3\\lib\\site-packages (from vaex-hdf5<0.8,>=0.7.0->vaex) (2.10.0)\n",
      "Collecting vaex-jupyter<0.7,>=0.6.0\n",
      "  Downloading vaex_jupyter-0.6.0-py3-none-any.whl (42 kB)\n",
      "Collecting bqplot>=0.10.1\n",
      "  Downloading bqplot-0.12.23-py2.py3-none-any.whl (1.2 MB)\n",
      "Requirement already satisfied: ipywidgets>=7.5.0 in c:\\users\\hnour\\anaconda3\\lib\\site-packages (from bqplot>=0.10.1->vaex-jupyter<0.7,>=0.6.0->vaex) (7.6.3)\n",
      "Requirement already satisfied: traitlets>=4.3.0 in c:\\users\\hnour\\anaconda3\\lib\\site-packages (from bqplot>=0.10.1->vaex-jupyter<0.7,>=0.6.0->vaex) (5.0.5)\n",
      "Collecting ipyvolume>=0.4\n",
      "  Downloading ipyvolume-0.5.2-py2.py3-none-any.whl (2.9 MB)\n",
      "Requirement already satisfied: Pillow in c:\\users\\hnour\\anaconda3\\lib\\site-packages (from ipyvolume>=0.4->vaex-jupyter<0.7,>=0.6.0->vaex) (8.1.0)\n",
      "Collecting ipyvuetify<2,>=1.2.2\n",
      "  Downloading ipyvuetify-1.6.2-py2.py3-none-any.whl (11.7 MB)\n"
     ]
    }
   ],
   "source": [
    "!pip install --upgrade vaex"
   ]
  },
  {
   "cell_type": "code",
   "execution_count": null,
   "id": "czech-arthur",
   "metadata": {},
   "outputs": [],
   "source": []
  },
  {
   "cell_type": "code",
   "execution_count": null,
   "id": "outdoor-annual",
   "metadata": {},
   "outputs": [],
   "source": []
  },
  {
   "cell_type": "code",
   "execution_count": null,
   "id": "informational-beaver",
   "metadata": {},
   "outputs": [],
   "source": []
  },
  {
   "cell_type": "code",
   "execution_count": null,
   "id": "short-begin",
   "metadata": {},
   "outputs": [],
   "source": []
  }
 ],
 "metadata": {
  "kernelspec": {
   "display_name": "Python 3",
   "language": "python",
   "name": "python3"
  },
  "language_info": {
   "codemirror_mode": {
    "name": "ipython",
    "version": 3
   },
   "file_extension": ".py",
   "mimetype": "text/x-python",
   "name": "python",
   "nbconvert_exporter": "python",
   "pygments_lexer": "ipython3",
   "version": "3.7.7"
  },
  "toc": {
   "base_numbering": 1,
   "nav_menu": {},
   "number_sections": true,
   "sideBar": true,
   "skip_h1_title": false,
   "title_cell": "Table of Contents",
   "title_sidebar": "Contents",
   "toc_cell": false,
   "toc_position": {},
   "toc_section_display": true,
   "toc_window_display": false
  },
  "varInspector": {
   "cols": {
    "lenName": 16,
    "lenType": 16,
    "lenVar": 40
   },
   "kernels_config": {
    "python": {
     "delete_cmd_postfix": "",
     "delete_cmd_prefix": "del ",
     "library": "var_list.py",
     "varRefreshCmd": "print(var_dic_list())"
    },
    "r": {
     "delete_cmd_postfix": ") ",
     "delete_cmd_prefix": "rm(",
     "library": "var_list.r",
     "varRefreshCmd": "cat(var_dic_list()) "
    }
   },
   "types_to_exclude": [
    "module",
    "function",
    "builtin_function_or_method",
    "instance",
    "_Feature"
   ],
   "window_display": false
  }
 },
 "nbformat": 4,
 "nbformat_minor": 5
}
